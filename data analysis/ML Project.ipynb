{
 "cells": [
  {
   "cell_type": "code",
   "execution_count": 26,
   "id": "c210a4ba",
   "metadata": {},
   "outputs": [],
   "source": [
    "import numpy as np \n",
    "import pandas as pd\n",
    "\n",
    "import matplotlib.pyplot as plt\n",
    "import seaborn as sns\n",
    "import plotly.express as px\n",
    "import warnings\n",
    "warnings.filterwarnings('ignore')\n",
    "%matplotlib inline"
   ]
  },
  {
   "cell_type": "code",
   "execution_count": 2,
   "id": "c4fa514a",
   "metadata": {},
   "outputs": [],
   "source": [
    "path = \"C:\\\\Users\\\\asr96\\\\Downloads\\\\Compressed\\\\heart_2020_cleaned.csv_2\\\\heart_2020_cleaned.csv\""
   ]
  },
  {
   "cell_type": "code",
   "execution_count": 3,
   "id": "9c703d73",
   "metadata": {},
   "outputs": [],
   "source": [
    "data = pd.read_csv(path)"
   ]
  },
  {
   "cell_type": "code",
   "execution_count": 4,
   "id": "e7bb43f0",
   "metadata": {},
   "outputs": [
    {
     "data": {
      "text/html": [
       "<div>\n",
       "<style scoped>\n",
       "    .dataframe tbody tr th:only-of-type {\n",
       "        vertical-align: middle;\n",
       "    }\n",
       "\n",
       "    .dataframe tbody tr th {\n",
       "        vertical-align: top;\n",
       "    }\n",
       "\n",
       "    .dataframe thead th {\n",
       "        text-align: right;\n",
       "    }\n",
       "</style>\n",
       "<table border=\"1\" class=\"dataframe\">\n",
       "  <thead>\n",
       "    <tr style=\"text-align: right;\">\n",
       "      <th></th>\n",
       "      <th>HeartDisease</th>\n",
       "      <th>BMI</th>\n",
       "      <th>Smoking</th>\n",
       "      <th>AlcoholDrinking</th>\n",
       "      <th>Stroke</th>\n",
       "      <th>PhysicalHealth</th>\n",
       "      <th>MentalHealth</th>\n",
       "      <th>DiffWalking</th>\n",
       "      <th>Sex</th>\n",
       "      <th>AgeCategory</th>\n",
       "      <th>Race</th>\n",
       "      <th>Diabetic</th>\n",
       "      <th>PhysicalActivity</th>\n",
       "      <th>GenHealth</th>\n",
       "      <th>SleepTime</th>\n",
       "      <th>Asthma</th>\n",
       "      <th>KidneyDisease</th>\n",
       "      <th>SkinCancer</th>\n",
       "    </tr>\n",
       "  </thead>\n",
       "  <tbody>\n",
       "    <tr>\n",
       "      <th>0</th>\n",
       "      <td>No</td>\n",
       "      <td>16.60</td>\n",
       "      <td>Yes</td>\n",
       "      <td>No</td>\n",
       "      <td>No</td>\n",
       "      <td>3.0</td>\n",
       "      <td>30.0</td>\n",
       "      <td>No</td>\n",
       "      <td>Female</td>\n",
       "      <td>55-59</td>\n",
       "      <td>White</td>\n",
       "      <td>Yes</td>\n",
       "      <td>Yes</td>\n",
       "      <td>Very good</td>\n",
       "      <td>5.0</td>\n",
       "      <td>Yes</td>\n",
       "      <td>No</td>\n",
       "      <td>Yes</td>\n",
       "    </tr>\n",
       "    <tr>\n",
       "      <th>1</th>\n",
       "      <td>No</td>\n",
       "      <td>20.34</td>\n",
       "      <td>No</td>\n",
       "      <td>No</td>\n",
       "      <td>Yes</td>\n",
       "      <td>0.0</td>\n",
       "      <td>0.0</td>\n",
       "      <td>No</td>\n",
       "      <td>Female</td>\n",
       "      <td>80 or older</td>\n",
       "      <td>White</td>\n",
       "      <td>No</td>\n",
       "      <td>Yes</td>\n",
       "      <td>Very good</td>\n",
       "      <td>7.0</td>\n",
       "      <td>No</td>\n",
       "      <td>No</td>\n",
       "      <td>No</td>\n",
       "    </tr>\n",
       "    <tr>\n",
       "      <th>2</th>\n",
       "      <td>No</td>\n",
       "      <td>26.58</td>\n",
       "      <td>Yes</td>\n",
       "      <td>No</td>\n",
       "      <td>No</td>\n",
       "      <td>20.0</td>\n",
       "      <td>30.0</td>\n",
       "      <td>No</td>\n",
       "      <td>Male</td>\n",
       "      <td>65-69</td>\n",
       "      <td>White</td>\n",
       "      <td>Yes</td>\n",
       "      <td>Yes</td>\n",
       "      <td>Fair</td>\n",
       "      <td>8.0</td>\n",
       "      <td>Yes</td>\n",
       "      <td>No</td>\n",
       "      <td>No</td>\n",
       "    </tr>\n",
       "    <tr>\n",
       "      <th>3</th>\n",
       "      <td>No</td>\n",
       "      <td>24.21</td>\n",
       "      <td>No</td>\n",
       "      <td>No</td>\n",
       "      <td>No</td>\n",
       "      <td>0.0</td>\n",
       "      <td>0.0</td>\n",
       "      <td>No</td>\n",
       "      <td>Female</td>\n",
       "      <td>75-79</td>\n",
       "      <td>White</td>\n",
       "      <td>No</td>\n",
       "      <td>No</td>\n",
       "      <td>Good</td>\n",
       "      <td>6.0</td>\n",
       "      <td>No</td>\n",
       "      <td>No</td>\n",
       "      <td>Yes</td>\n",
       "    </tr>\n",
       "    <tr>\n",
       "      <th>4</th>\n",
       "      <td>No</td>\n",
       "      <td>23.71</td>\n",
       "      <td>No</td>\n",
       "      <td>No</td>\n",
       "      <td>No</td>\n",
       "      <td>28.0</td>\n",
       "      <td>0.0</td>\n",
       "      <td>Yes</td>\n",
       "      <td>Female</td>\n",
       "      <td>40-44</td>\n",
       "      <td>White</td>\n",
       "      <td>No</td>\n",
       "      <td>Yes</td>\n",
       "      <td>Very good</td>\n",
       "      <td>8.0</td>\n",
       "      <td>No</td>\n",
       "      <td>No</td>\n",
       "      <td>No</td>\n",
       "    </tr>\n",
       "    <tr>\n",
       "      <th>...</th>\n",
       "      <td>...</td>\n",
       "      <td>...</td>\n",
       "      <td>...</td>\n",
       "      <td>...</td>\n",
       "      <td>...</td>\n",
       "      <td>...</td>\n",
       "      <td>...</td>\n",
       "      <td>...</td>\n",
       "      <td>...</td>\n",
       "      <td>...</td>\n",
       "      <td>...</td>\n",
       "      <td>...</td>\n",
       "      <td>...</td>\n",
       "      <td>...</td>\n",
       "      <td>...</td>\n",
       "      <td>...</td>\n",
       "      <td>...</td>\n",
       "      <td>...</td>\n",
       "    </tr>\n",
       "    <tr>\n",
       "      <th>319790</th>\n",
       "      <td>Yes</td>\n",
       "      <td>27.41</td>\n",
       "      <td>Yes</td>\n",
       "      <td>No</td>\n",
       "      <td>No</td>\n",
       "      <td>7.0</td>\n",
       "      <td>0.0</td>\n",
       "      <td>Yes</td>\n",
       "      <td>Male</td>\n",
       "      <td>60-64</td>\n",
       "      <td>Hispanic</td>\n",
       "      <td>Yes</td>\n",
       "      <td>No</td>\n",
       "      <td>Fair</td>\n",
       "      <td>6.0</td>\n",
       "      <td>Yes</td>\n",
       "      <td>No</td>\n",
       "      <td>No</td>\n",
       "    </tr>\n",
       "    <tr>\n",
       "      <th>319791</th>\n",
       "      <td>No</td>\n",
       "      <td>29.84</td>\n",
       "      <td>Yes</td>\n",
       "      <td>No</td>\n",
       "      <td>No</td>\n",
       "      <td>0.0</td>\n",
       "      <td>0.0</td>\n",
       "      <td>No</td>\n",
       "      <td>Male</td>\n",
       "      <td>35-39</td>\n",
       "      <td>Hispanic</td>\n",
       "      <td>No</td>\n",
       "      <td>Yes</td>\n",
       "      <td>Very good</td>\n",
       "      <td>5.0</td>\n",
       "      <td>Yes</td>\n",
       "      <td>No</td>\n",
       "      <td>No</td>\n",
       "    </tr>\n",
       "    <tr>\n",
       "      <th>319792</th>\n",
       "      <td>No</td>\n",
       "      <td>24.24</td>\n",
       "      <td>No</td>\n",
       "      <td>No</td>\n",
       "      <td>No</td>\n",
       "      <td>0.0</td>\n",
       "      <td>0.0</td>\n",
       "      <td>No</td>\n",
       "      <td>Female</td>\n",
       "      <td>45-49</td>\n",
       "      <td>Hispanic</td>\n",
       "      <td>No</td>\n",
       "      <td>Yes</td>\n",
       "      <td>Good</td>\n",
       "      <td>6.0</td>\n",
       "      <td>No</td>\n",
       "      <td>No</td>\n",
       "      <td>No</td>\n",
       "    </tr>\n",
       "    <tr>\n",
       "      <th>319793</th>\n",
       "      <td>No</td>\n",
       "      <td>32.81</td>\n",
       "      <td>No</td>\n",
       "      <td>No</td>\n",
       "      <td>No</td>\n",
       "      <td>0.0</td>\n",
       "      <td>0.0</td>\n",
       "      <td>No</td>\n",
       "      <td>Female</td>\n",
       "      <td>25-29</td>\n",
       "      <td>Hispanic</td>\n",
       "      <td>No</td>\n",
       "      <td>No</td>\n",
       "      <td>Good</td>\n",
       "      <td>12.0</td>\n",
       "      <td>No</td>\n",
       "      <td>No</td>\n",
       "      <td>No</td>\n",
       "    </tr>\n",
       "    <tr>\n",
       "      <th>319794</th>\n",
       "      <td>No</td>\n",
       "      <td>46.56</td>\n",
       "      <td>No</td>\n",
       "      <td>No</td>\n",
       "      <td>No</td>\n",
       "      <td>0.0</td>\n",
       "      <td>0.0</td>\n",
       "      <td>No</td>\n",
       "      <td>Female</td>\n",
       "      <td>80 or older</td>\n",
       "      <td>Hispanic</td>\n",
       "      <td>No</td>\n",
       "      <td>Yes</td>\n",
       "      <td>Good</td>\n",
       "      <td>8.0</td>\n",
       "      <td>No</td>\n",
       "      <td>No</td>\n",
       "      <td>No</td>\n",
       "    </tr>\n",
       "  </tbody>\n",
       "</table>\n",
       "<p>319795 rows × 18 columns</p>\n",
       "</div>"
      ],
      "text/plain": [
       "       HeartDisease    BMI Smoking AlcoholDrinking Stroke  PhysicalHealth  \\\n",
       "0                No  16.60     Yes              No     No             3.0   \n",
       "1                No  20.34      No              No    Yes             0.0   \n",
       "2                No  26.58     Yes              No     No            20.0   \n",
       "3                No  24.21      No              No     No             0.0   \n",
       "4                No  23.71      No              No     No            28.0   \n",
       "...             ...    ...     ...             ...    ...             ...   \n",
       "319790          Yes  27.41     Yes              No     No             7.0   \n",
       "319791           No  29.84     Yes              No     No             0.0   \n",
       "319792           No  24.24      No              No     No             0.0   \n",
       "319793           No  32.81      No              No     No             0.0   \n",
       "319794           No  46.56      No              No     No             0.0   \n",
       "\n",
       "        MentalHealth DiffWalking     Sex  AgeCategory      Race Diabetic  \\\n",
       "0               30.0          No  Female        55-59     White      Yes   \n",
       "1                0.0          No  Female  80 or older     White       No   \n",
       "2               30.0          No    Male        65-69     White      Yes   \n",
       "3                0.0          No  Female        75-79     White       No   \n",
       "4                0.0         Yes  Female        40-44     White       No   \n",
       "...              ...         ...     ...          ...       ...      ...   \n",
       "319790           0.0         Yes    Male        60-64  Hispanic      Yes   \n",
       "319791           0.0          No    Male        35-39  Hispanic       No   \n",
       "319792           0.0          No  Female        45-49  Hispanic       No   \n",
       "319793           0.0          No  Female        25-29  Hispanic       No   \n",
       "319794           0.0          No  Female  80 or older  Hispanic       No   \n",
       "\n",
       "       PhysicalActivity  GenHealth  SleepTime Asthma KidneyDisease SkinCancer  \n",
       "0                   Yes  Very good        5.0    Yes            No        Yes  \n",
       "1                   Yes  Very good        7.0     No            No         No  \n",
       "2                   Yes       Fair        8.0    Yes            No         No  \n",
       "3                    No       Good        6.0     No            No        Yes  \n",
       "4                   Yes  Very good        8.0     No            No         No  \n",
       "...                 ...        ...        ...    ...           ...        ...  \n",
       "319790               No       Fair        6.0    Yes            No         No  \n",
       "319791              Yes  Very good        5.0    Yes            No         No  \n",
       "319792              Yes       Good        6.0     No            No         No  \n",
       "319793               No       Good       12.0     No            No         No  \n",
       "319794              Yes       Good        8.0     No            No         No  \n",
       "\n",
       "[319795 rows x 18 columns]"
      ]
     },
     "execution_count": 4,
     "metadata": {},
     "output_type": "execute_result"
    }
   ],
   "source": [
    "data"
   ]
  },
  {
   "cell_type": "code",
   "execution_count": 5,
   "id": "0a6cb96b",
   "metadata": {},
   "outputs": [
    {
     "name": "stdout",
     "output_type": "stream",
     "text": [
      "<class 'pandas.core.frame.DataFrame'>\n",
      "RangeIndex: 319795 entries, 0 to 319794\n",
      "Data columns (total 18 columns):\n",
      " #   Column            Non-Null Count   Dtype  \n",
      "---  ------            --------------   -----  \n",
      " 0   HeartDisease      319795 non-null  object \n",
      " 1   BMI               319795 non-null  float64\n",
      " 2   Smoking           319795 non-null  object \n",
      " 3   AlcoholDrinking   319795 non-null  object \n",
      " 4   Stroke            319795 non-null  object \n",
      " 5   PhysicalHealth    319795 non-null  float64\n",
      " 6   MentalHealth      319795 non-null  float64\n",
      " 7   DiffWalking       319795 non-null  object \n",
      " 8   Sex               319795 non-null  object \n",
      " 9   AgeCategory       319795 non-null  object \n",
      " 10  Race              319795 non-null  object \n",
      " 11  Diabetic          319795 non-null  object \n",
      " 12  PhysicalActivity  319795 non-null  object \n",
      " 13  GenHealth         319795 non-null  object \n",
      " 14  SleepTime         319795 non-null  float64\n",
      " 15  Asthma            319795 non-null  object \n",
      " 16  KidneyDisease     319795 non-null  object \n",
      " 17  SkinCancer        319795 non-null  object \n",
      "dtypes: float64(4), object(14)\n",
      "memory usage: 43.9+ MB\n"
     ]
    }
   ],
   "source": [
    "data.info()"
   ]
  },
  {
   "cell_type": "markdown",
   "id": "c712dd19",
   "metadata": {},
   "source": [
    " **Columns**\n",
    " \n",
    " 1) BMI:\n",
    "     a person's weight in kilograms (or pounds) divided by the square of height in meters (or feet)\n",
    "     A high BMI can indicate high body fatness. BMI screens for weight categories that may lead to health problems, but it does\n",
    "     not diagnose the body fatness or health of an individual.\n",
    "     \n",
    " 2) Stroke:\n",
    "     The sudden death of brain cells due to lack of oxygen, caused by blockage of blood flow or rupture of an artery to the \n",
    "     brain\n",
    " \n",
    " 3) Diabetic: \n",
    "        مريض بالسكر\n",
    " \n",
    " 4) Asthma: \n",
    "         مريض بالربو  \n",
    " \n",
    " 5) Kidney Disease\n",
    "         مريض كلوى\n",
    " \n",
    " 6) GenHealth: General health\n",
    "\n",
    " \n",
    " \n",
    " \n",
    " \n",
    " \n",
    " \n",
    " "
   ]
  },
  {
   "cell_type": "code",
   "execution_count": 6,
   "id": "926ce881",
   "metadata": {},
   "outputs": [
    {
     "data": {
      "text/plain": [
       "HeartDisease        0\n",
       "BMI                 0\n",
       "Smoking             0\n",
       "AlcoholDrinking     0\n",
       "Stroke              0\n",
       "PhysicalHealth      0\n",
       "MentalHealth        0\n",
       "DiffWalking         0\n",
       "Sex                 0\n",
       "AgeCategory         0\n",
       "Race                0\n",
       "Diabetic            0\n",
       "PhysicalActivity    0\n",
       "GenHealth           0\n",
       "SleepTime           0\n",
       "Asthma              0\n",
       "KidneyDisease       0\n",
       "SkinCancer          0\n",
       "dtype: int64"
      ]
     },
     "execution_count": 6,
     "metadata": {},
     "output_type": "execute_result"
    }
   ],
   "source": [
    "data.isna().sum()"
   ]
  },
  {
   "cell_type": "code",
   "execution_count": 7,
   "id": "4b99ff3b",
   "metadata": {},
   "outputs": [
    {
     "data": {
      "text/plain": [
       "65-69          10.679029\n",
       "60-64          10.533623\n",
       "70-74           9.714036\n",
       "55-59           9.305024\n",
       "50-54           7.936960\n",
       "80 or older     7.552651\n",
       "45-49           6.814053\n",
       "75-79           6.717428\n",
       "18-24           6.586720\n",
       "40-44           6.568583\n",
       "35-39           6.425992\n",
       "30-34           5.864069\n",
       "25-29           5.301834\n",
       "Name: AgeCategory, dtype: float64"
      ]
     },
     "execution_count": 7,
     "metadata": {},
     "output_type": "execute_result"
    }
   ],
   "source": [
    "data['AgeCategory'].value_counts(normalize=True)*100"
   ]
  },
  {
   "cell_type": "code",
   "execution_count": 8,
   "id": "e3d7213d",
   "metadata": {},
   "outputs": [
    {
     "data": {
      "text/plain": [
       "62"
      ]
     },
     "execution_count": 8,
     "metadata": {},
     "output_type": "execute_result"
    }
   ],
   "source": [
    "80-18"
   ]
  },
  {
   "cell_type": "code",
   "execution_count": 9,
   "id": "0d0d105d",
   "metadata": {},
   "outputs": [
    {
     "data": {
      "text/plain": [
       "12.4"
      ]
     },
     "execution_count": 9,
     "metadata": {},
     "output_type": "execute_result"
    }
   ],
   "source": [
    "62/5"
   ]
  },
  {
   "cell_type": "code",
   "execution_count": 10,
   "id": "ae3e3733",
   "metadata": {},
   "outputs": [
    {
     "data": {
      "text/plain": [
       "White                             76.677872\n",
       "Hispanic                           8.582373\n",
       "Black                              7.173033\n",
       "Other                              3.417189\n",
       "Asian                              2.522866\n",
       "American Indian/Alaskan Native     1.626667\n",
       "Name: Race, dtype: float64"
      ]
     },
     "execution_count": 10,
     "metadata": {},
     "output_type": "execute_result"
    }
   ],
   "source": [
    "data['Race'].value_counts(normalize=True)*100"
   ]
  },
  {
   "cell_type": "code",
   "execution_count": 11,
   "id": "c6f36f56",
   "metadata": {},
   "outputs": [
    {
     "data": {
      "text/plain": [
       "Female    52.472678\n",
       "Male      47.527322\n",
       "Name: Sex, dtype: float64"
      ]
     },
     "execution_count": 11,
     "metadata": {},
     "output_type": "execute_result"
    }
   ],
   "source": [
    "data['Sex'].value_counts(normalize=True)*100"
   ]
  },
  {
   "cell_type": "markdown",
   "id": "53ae8e2d",
   "metadata": {},
   "source": [
    "- EDA: \n",
    "    1) numerical Analysis\n",
    "    2) visualizing our analysis -> categorical data Vs target & numerical data Vs target \n",
    "    3) No missing values :)\n",
    "    4) create dashboard\n",
    "- modelling:\n",
    "    1) fixing the imbalancing issue\n",
    "    2) feature selection\n",
    "    3) try to combine low percentage categories under one label and see the effect of it\n",
    "    4) model selection and evaluation\n",
    "- presentation    "
   ]
  },
  {
   "cell_type": "markdown",
   "id": "4ccdedb7",
   "metadata": {},
   "source": [
    " **3 phases**:\n",
    "         - Visualization\n",
    "         - preprocessing\n",
    "         - modelling "
   ]
  },
  {
   "cell_type": "code",
   "execution_count": 12,
   "id": "bd2a81b3",
   "metadata": {},
   "outputs": [
    {
     "data": {
      "text/html": [
       "<div>\n",
       "<style scoped>\n",
       "    .dataframe tbody tr th:only-of-type {\n",
       "        vertical-align: middle;\n",
       "    }\n",
       "\n",
       "    .dataframe tbody tr th {\n",
       "        vertical-align: top;\n",
       "    }\n",
       "\n",
       "    .dataframe thead th {\n",
       "        text-align: right;\n",
       "    }\n",
       "</style>\n",
       "<table border=\"1\" class=\"dataframe\">\n",
       "  <thead>\n",
       "    <tr style=\"text-align: right;\">\n",
       "      <th></th>\n",
       "      <th>HeartDisease</th>\n",
       "      <th>BMI</th>\n",
       "      <th>Smoking</th>\n",
       "      <th>AlcoholDrinking</th>\n",
       "      <th>Stroke</th>\n",
       "      <th>PhysicalHealth</th>\n",
       "      <th>MentalHealth</th>\n",
       "      <th>DiffWalking</th>\n",
       "      <th>Sex</th>\n",
       "      <th>AgeCategory</th>\n",
       "      <th>Race</th>\n",
       "      <th>Diabetic</th>\n",
       "      <th>PhysicalActivity</th>\n",
       "      <th>GenHealth</th>\n",
       "      <th>SleepTime</th>\n",
       "      <th>Asthma</th>\n",
       "      <th>KidneyDisease</th>\n",
       "      <th>SkinCancer</th>\n",
       "    </tr>\n",
       "  </thead>\n",
       "  <tbody>\n",
       "    <tr>\n",
       "      <th>0</th>\n",
       "      <td>No</td>\n",
       "      <td>16.60</td>\n",
       "      <td>Yes</td>\n",
       "      <td>No</td>\n",
       "      <td>No</td>\n",
       "      <td>3.0</td>\n",
       "      <td>30.0</td>\n",
       "      <td>No</td>\n",
       "      <td>Female</td>\n",
       "      <td>55-59</td>\n",
       "      <td>White</td>\n",
       "      <td>Yes</td>\n",
       "      <td>Yes</td>\n",
       "      <td>Very good</td>\n",
       "      <td>5.0</td>\n",
       "      <td>Yes</td>\n",
       "      <td>No</td>\n",
       "      <td>Yes</td>\n",
       "    </tr>\n",
       "    <tr>\n",
       "      <th>1</th>\n",
       "      <td>No</td>\n",
       "      <td>20.34</td>\n",
       "      <td>No</td>\n",
       "      <td>No</td>\n",
       "      <td>Yes</td>\n",
       "      <td>0.0</td>\n",
       "      <td>0.0</td>\n",
       "      <td>No</td>\n",
       "      <td>Female</td>\n",
       "      <td>80 or older</td>\n",
       "      <td>White</td>\n",
       "      <td>No</td>\n",
       "      <td>Yes</td>\n",
       "      <td>Very good</td>\n",
       "      <td>7.0</td>\n",
       "      <td>No</td>\n",
       "      <td>No</td>\n",
       "      <td>No</td>\n",
       "    </tr>\n",
       "    <tr>\n",
       "      <th>2</th>\n",
       "      <td>No</td>\n",
       "      <td>26.58</td>\n",
       "      <td>Yes</td>\n",
       "      <td>No</td>\n",
       "      <td>No</td>\n",
       "      <td>20.0</td>\n",
       "      <td>30.0</td>\n",
       "      <td>No</td>\n",
       "      <td>Male</td>\n",
       "      <td>65-69</td>\n",
       "      <td>White</td>\n",
       "      <td>Yes</td>\n",
       "      <td>Yes</td>\n",
       "      <td>Fair</td>\n",
       "      <td>8.0</td>\n",
       "      <td>Yes</td>\n",
       "      <td>No</td>\n",
       "      <td>No</td>\n",
       "    </tr>\n",
       "    <tr>\n",
       "      <th>3</th>\n",
       "      <td>No</td>\n",
       "      <td>24.21</td>\n",
       "      <td>No</td>\n",
       "      <td>No</td>\n",
       "      <td>No</td>\n",
       "      <td>0.0</td>\n",
       "      <td>0.0</td>\n",
       "      <td>No</td>\n",
       "      <td>Female</td>\n",
       "      <td>75-79</td>\n",
       "      <td>White</td>\n",
       "      <td>No</td>\n",
       "      <td>No</td>\n",
       "      <td>Good</td>\n",
       "      <td>6.0</td>\n",
       "      <td>No</td>\n",
       "      <td>No</td>\n",
       "      <td>Yes</td>\n",
       "    </tr>\n",
       "    <tr>\n",
       "      <th>4</th>\n",
       "      <td>No</td>\n",
       "      <td>23.71</td>\n",
       "      <td>No</td>\n",
       "      <td>No</td>\n",
       "      <td>No</td>\n",
       "      <td>28.0</td>\n",
       "      <td>0.0</td>\n",
       "      <td>Yes</td>\n",
       "      <td>Female</td>\n",
       "      <td>40-44</td>\n",
       "      <td>White</td>\n",
       "      <td>No</td>\n",
       "      <td>Yes</td>\n",
       "      <td>Very good</td>\n",
       "      <td>8.0</td>\n",
       "      <td>No</td>\n",
       "      <td>No</td>\n",
       "      <td>No</td>\n",
       "    </tr>\n",
       "    <tr>\n",
       "      <th>...</th>\n",
       "      <td>...</td>\n",
       "      <td>...</td>\n",
       "      <td>...</td>\n",
       "      <td>...</td>\n",
       "      <td>...</td>\n",
       "      <td>...</td>\n",
       "      <td>...</td>\n",
       "      <td>...</td>\n",
       "      <td>...</td>\n",
       "      <td>...</td>\n",
       "      <td>...</td>\n",
       "      <td>...</td>\n",
       "      <td>...</td>\n",
       "      <td>...</td>\n",
       "      <td>...</td>\n",
       "      <td>...</td>\n",
       "      <td>...</td>\n",
       "      <td>...</td>\n",
       "    </tr>\n",
       "    <tr>\n",
       "      <th>319790</th>\n",
       "      <td>Yes</td>\n",
       "      <td>27.41</td>\n",
       "      <td>Yes</td>\n",
       "      <td>No</td>\n",
       "      <td>No</td>\n",
       "      <td>7.0</td>\n",
       "      <td>0.0</td>\n",
       "      <td>Yes</td>\n",
       "      <td>Male</td>\n",
       "      <td>60-64</td>\n",
       "      <td>Hispanic</td>\n",
       "      <td>Yes</td>\n",
       "      <td>No</td>\n",
       "      <td>Fair</td>\n",
       "      <td>6.0</td>\n",
       "      <td>Yes</td>\n",
       "      <td>No</td>\n",
       "      <td>No</td>\n",
       "    </tr>\n",
       "    <tr>\n",
       "      <th>319791</th>\n",
       "      <td>No</td>\n",
       "      <td>29.84</td>\n",
       "      <td>Yes</td>\n",
       "      <td>No</td>\n",
       "      <td>No</td>\n",
       "      <td>0.0</td>\n",
       "      <td>0.0</td>\n",
       "      <td>No</td>\n",
       "      <td>Male</td>\n",
       "      <td>35-39</td>\n",
       "      <td>Hispanic</td>\n",
       "      <td>No</td>\n",
       "      <td>Yes</td>\n",
       "      <td>Very good</td>\n",
       "      <td>5.0</td>\n",
       "      <td>Yes</td>\n",
       "      <td>No</td>\n",
       "      <td>No</td>\n",
       "    </tr>\n",
       "    <tr>\n",
       "      <th>319792</th>\n",
       "      <td>No</td>\n",
       "      <td>24.24</td>\n",
       "      <td>No</td>\n",
       "      <td>No</td>\n",
       "      <td>No</td>\n",
       "      <td>0.0</td>\n",
       "      <td>0.0</td>\n",
       "      <td>No</td>\n",
       "      <td>Female</td>\n",
       "      <td>45-49</td>\n",
       "      <td>Hispanic</td>\n",
       "      <td>No</td>\n",
       "      <td>Yes</td>\n",
       "      <td>Good</td>\n",
       "      <td>6.0</td>\n",
       "      <td>No</td>\n",
       "      <td>No</td>\n",
       "      <td>No</td>\n",
       "    </tr>\n",
       "    <tr>\n",
       "      <th>319793</th>\n",
       "      <td>No</td>\n",
       "      <td>32.81</td>\n",
       "      <td>No</td>\n",
       "      <td>No</td>\n",
       "      <td>No</td>\n",
       "      <td>0.0</td>\n",
       "      <td>0.0</td>\n",
       "      <td>No</td>\n",
       "      <td>Female</td>\n",
       "      <td>25-29</td>\n",
       "      <td>Hispanic</td>\n",
       "      <td>No</td>\n",
       "      <td>No</td>\n",
       "      <td>Good</td>\n",
       "      <td>12.0</td>\n",
       "      <td>No</td>\n",
       "      <td>No</td>\n",
       "      <td>No</td>\n",
       "    </tr>\n",
       "    <tr>\n",
       "      <th>319794</th>\n",
       "      <td>No</td>\n",
       "      <td>46.56</td>\n",
       "      <td>No</td>\n",
       "      <td>No</td>\n",
       "      <td>No</td>\n",
       "      <td>0.0</td>\n",
       "      <td>0.0</td>\n",
       "      <td>No</td>\n",
       "      <td>Female</td>\n",
       "      <td>80 or older</td>\n",
       "      <td>Hispanic</td>\n",
       "      <td>No</td>\n",
       "      <td>Yes</td>\n",
       "      <td>Good</td>\n",
       "      <td>8.0</td>\n",
       "      <td>No</td>\n",
       "      <td>No</td>\n",
       "      <td>No</td>\n",
       "    </tr>\n",
       "  </tbody>\n",
       "</table>\n",
       "<p>319795 rows × 18 columns</p>\n",
       "</div>"
      ],
      "text/plain": [
       "       HeartDisease    BMI Smoking AlcoholDrinking Stroke  PhysicalHealth  \\\n",
       "0                No  16.60     Yes              No     No             3.0   \n",
       "1                No  20.34      No              No    Yes             0.0   \n",
       "2                No  26.58     Yes              No     No            20.0   \n",
       "3                No  24.21      No              No     No             0.0   \n",
       "4                No  23.71      No              No     No            28.0   \n",
       "...             ...    ...     ...             ...    ...             ...   \n",
       "319790          Yes  27.41     Yes              No     No             7.0   \n",
       "319791           No  29.84     Yes              No     No             0.0   \n",
       "319792           No  24.24      No              No     No             0.0   \n",
       "319793           No  32.81      No              No     No             0.0   \n",
       "319794           No  46.56      No              No     No             0.0   \n",
       "\n",
       "        MentalHealth DiffWalking     Sex  AgeCategory      Race Diabetic  \\\n",
       "0               30.0          No  Female        55-59     White      Yes   \n",
       "1                0.0          No  Female  80 or older     White       No   \n",
       "2               30.0          No    Male        65-69     White      Yes   \n",
       "3                0.0          No  Female        75-79     White       No   \n",
       "4                0.0         Yes  Female        40-44     White       No   \n",
       "...              ...         ...     ...          ...       ...      ...   \n",
       "319790           0.0         Yes    Male        60-64  Hispanic      Yes   \n",
       "319791           0.0          No    Male        35-39  Hispanic       No   \n",
       "319792           0.0          No  Female        45-49  Hispanic       No   \n",
       "319793           0.0          No  Female        25-29  Hispanic       No   \n",
       "319794           0.0          No  Female  80 or older  Hispanic       No   \n",
       "\n",
       "       PhysicalActivity  GenHealth  SleepTime Asthma KidneyDisease SkinCancer  \n",
       "0                   Yes  Very good        5.0    Yes            No        Yes  \n",
       "1                   Yes  Very good        7.0     No            No         No  \n",
       "2                   Yes       Fair        8.0    Yes            No         No  \n",
       "3                    No       Good        6.0     No            No        Yes  \n",
       "4                   Yes  Very good        8.0     No            No         No  \n",
       "...                 ...        ...        ...    ...           ...        ...  \n",
       "319790               No       Fair        6.0    Yes            No         No  \n",
       "319791              Yes  Very good        5.0    Yes            No         No  \n",
       "319792              Yes       Good        6.0     No            No         No  \n",
       "319793               No       Good       12.0     No            No         No  \n",
       "319794              Yes       Good        8.0     No            No         No  \n",
       "\n",
       "[319795 rows x 18 columns]"
      ]
     },
     "execution_count": 12,
     "metadata": {},
     "output_type": "execute_result"
    }
   ],
   "source": [
    "data"
   ]
  },
  {
   "cell_type": "markdown",
   "id": "af8e4a12",
   "metadata": {},
   "source": [
    "**Question:**\n",
    "\n",
    "1. most likely to have disease on the heart males or females?\n",
    "\n",
    "2. is there any relation between skinCancer and heart disease\n",
    "3. is there any relation between KidneyDisease and heart disease\n",
    "4. is there any relation between Asthma and heart disease\n",
    "5. is there any relation between stroke and heart disease\n",
    "6. is there any relation between diabetic and heart disease\n",
    "\n",
    "7. how many hours should i sleep to avoid getting any heart diseases\n",
    "8. who is most likely to get heart disease according to Age category\n",
    "\n",
    "9. does smoking affect the health of the heart?\n",
    "10. does getting overweighted affect the health of the heart\n",
    "\n",
    "11. being healthy is make our heart healthy too, does this true\n",
    "\n",
    "12. does the heart affect on the walking ?\n",
    "13. how far drinking alcohol affect the health of the heart\n",
    "\n",
    "14. mental health meaning that we less likely to get stroke , does this true ?\n",
    "15. doing excerises every day may affect on the heart and make it work well ,does this true?\n",
    "\n"
   ]
  },
  {
   "cell_type": "code",
   "execution_count": 99,
   "id": "ddb21847",
   "metadata": {},
   "outputs": [],
   "source": [
    "list_xtickls = []\n",
    "for item in sorted(list(data['SleepTime'].unique())):\n",
    "    if(int(item) <= 10):\n",
    "        list_xtickls.append(item)\n",
    "    else:\n",
    "        break"
   ]
  },
  {
   "cell_type": "code",
   "execution_count": 100,
   "id": "3657da58",
   "metadata": {},
   "outputs": [
    {
     "data": {
      "text/plain": [
       "[1.0, 2.0, 3.0, 4.0, 5.0, 6.0, 7.0, 8.0, 9.0, 10.0]"
      ]
     },
     "execution_count": 100,
     "metadata": {},
     "output_type": "execute_result"
    }
   ],
   "source": [
    "list_xtickls"
   ]
  },
  {
   "cell_type": "markdown",
   "id": "bec37090",
   "metadata": {},
   "source": [
    "## Sleep time Vs HearDisease"
   ]
  },
  {
   "cell_type": "markdown",
   "id": "2f550b26",
   "metadata": {},
   "source": [
    "**ref**\n",
    "1. https://www.cdc.gov/bloodpressure/sleep.htm"
   ]
  },
  {
   "cell_type": "markdown",
   "id": "1fd455fb",
   "metadata": {},
   "source": [
    "**What health conditions are linked to a lack of sleep?**\n",
    "\n",
    "    A. Adults who sleep (less than 7 hours) each night are more likely to say they have had health problems,\n",
    "       including heart attack, asthma, and depression.\n",
    "       Some of these health problems raise the risk for heart disease, heart attack, and stroke\n",
    "    "
   ]
  },
  {
   "cell_type": "code",
   "execution_count": 251,
   "id": "b4b5e41d",
   "metadata": {},
   "outputs": [
    {
     "data": {
      "image/png": "[encoded data removed]",
      "text/plain": [
       "<Figure size 576x432 with 1 Axes>"
      ]
     },
     "metadata": {},
     "output_type": "display_data"
    }
   ],
   "source": [
    "sns.set()\n",
    "plt.figure(figsize=(8,6))\n",
    "sns.set_style('white')\n",
    "sns.histplot(x=data['SleepTime'],hue = data['HeartDisease'],bins=15,palette= 'husl',stat='count',multiple='stack')\n",
    "plt.xticks(list_xtickls)\n",
    "plt.title('HeartDisease Vs Sleep time (hrs)',loc='left',fontsize=13,fontweight='bold',fontdict={'color':'#311B92'})\n",
    "sns.despine()\n",
    "plt.show()\n"
   ]
  },
  {
   "cell_type": "markdown",
   "id": "84b54830",
   "metadata": {},
   "source": [
    " > **most people that have heart disease are sleeping between [5.5-8.5] hrs**"
   ]
  },
  {
   "cell_type": "markdown",
   "id": "01798d4c",
   "metadata": {},
   "source": [
    "## BMI"
   ]
  },
  {
   "cell_type": "markdown",
   "id": "32482e36",
   "metadata": {},
   "source": [
    "**References:**\n",
    "1. https://www.youtube.com/watch?v=TMDldXoDLrQ&t=65s\n",
    "2. https://www.nhs.uk/conditions/type-2-diabetes/"
   ]
  },
  {
   "cell_type": "markdown",
   "id": "2dc2a3a9",
   "metadata": {},
   "source": [
    "**Illustration**\n",
    "1. For most adults, an ideal BMI is in the 18.5 to 24.9 range.\n",
    "\n",
    "2. For children and young people aged 2 to 18, the BMI calculation takes into account age and gender as well as height and weight.\n",
    "\n",
    "3. If your BMI is:\n",
    "\n",
    "    A. below 18.5 – you're in the underweight range.\n",
    "    \n",
    "    B. between 18.5 and 24.9 – you're in the healthy weight range.\n",
    "    \n",
    "    C. between 25 and 29.9 – you're in the overweight range.\n",
    "    \n",
    "    D. between 30 and 39.9 – you're in the obese range.\n",
    "    \n",
    "**4. Effect of it on the heart:**\n",
    "\n",
    "    A. being overweight means the heart should work harder to move the blood   around the body leading to high blood pressure. \n",
    "\n",
    "    B. this will lead to have high cholesterol which can lead to fatty material building up in the arteries(شرايين) over time\n",
    "    \n",
    "    C. if the arteries that carry blood to the heart get damaged due to this fatty materials, it can lead to heart attack and if this arteries where working to carry the blood to the brain ,it can lead to ***stroke***\n",
    "    \n",
    "    \n",
    "**5. Effect of being overweighted on the diabetes**\n",
    "    \n",
    "    A. that could develop type two of diabetes:\n",
    "- Type 2 diabetes is a common condition that causes the level of sugar (glucose) in the blood to become too high.\n",
    "- It's caused by problems with a chemical in the body (hormone) called insulin.\n",
    "\n",
    "    A. our body releases this hormone when we eat to obsorb the glucose and use it as fuel for energy on healthy body this system works well but with the overweighted can causes alot of damaage\n",
    "    \n",
    "    B. People who are overweight, fat around the middle of body release chemicals that makes the body less sensitive to the insulin (In other words, this hormone couldn't reach the eat to absorb the glucose) which leads to rise on the glucose on the body causes type two of diabetes\n",
    "\n",
    "    \n",
    "    "
   ]
  },
  {
   "cell_type": "code",
   "execution_count": 257,
   "id": "47dda00a",
   "metadata": {},
   "outputs": [
    {
     "data": {
      "image/png": "[encoded data removed]",
      "text/plain": [
       "<Figure size 576x432 with 1 Axes>"
      ]
     },
     "metadata": {},
     "output_type": "display_data"
    }
   ],
   "source": [
    "sns.set()\n",
    "plt.figure(figsize=(8,6))\n",
    "sns.set_style('white')\n",
    "sns.histplot(x=data['BMI'],hue = data['HeartDisease'],bins=15,palette= 'husl',stat='count',kde=True,multiple='stack')\n",
    "plt.xticks([5,10,15,20,25,30,35,40,45,50,55,60])\n",
    "plt.title('HeartDisease Vs BMI',loc='center',fontsize=13,fontweight='bold',fontdict={'color':'#311B92'})\n",
    "sns.despine()\n",
    "plt.show()\n"
   ]
  },
  {
   "cell_type": "markdown",
   "id": "77b0c3a5",
   "metadata": {},
   "source": [
    "> "
   ]
  },
  {
   "cell_type": "markdown",
   "id": "bb94f8a5",
   "metadata": {},
   "source": [
    "## Physical Health"
   ]
  },
  {
   "cell_type": "markdown",
   "id": "1be8b2dc",
   "metadata": {},
   "source": [
    "\n",
    "1. Physical health is defined as the condition of your body, taking into consideration everything from the absence of disease to fitness level.\n",
    "<br>\n",
    "2. Physical health is critical for overall well-being, and can be affected by:\n",
    "\n",
    "    A. Lifestyle: diet, **level of physical activity**, and behaviour (for instance, **smoking**)<br>\n",
    "    B. Human biology: a person’s genetics and physiology may make it easier or harder to achieve good physical health<br>\n",
    "    C. Environment: our surroundings and exposure to factors such as sunlight or toxic substances<br>\n",
    "    D. Healthcare service: good healthcare can help prevent illness, as well as detect and treat illness<br>"
   ]
  },
  {
   "cell_type": "code",
   "execution_count": 259,
   "id": "6973a980",
   "metadata": {},
   "outputs": [
    {
     "data": {
      "text/plain": [
       "array([ 3.,  0., 20., 28.,  6., 15.,  5., 30.,  7.,  1.,  2., 21.,  4.,\n",
       "       10., 14., 18.,  8., 25., 16., 29., 27., 17., 24., 12., 23., 26.,\n",
       "       22., 19.,  9., 13., 11.])"
      ]
     },
     "execution_count": 259,
     "metadata": {},
     "output_type": "execute_result"
    }
   ],
   "source": [
    "data['PhysicalHealth'].unique()"
   ]
  },
  {
   "cell_type": "code",
   "execution_count": 260,
   "id": "125702a9",
   "metadata": {},
   "outputs": [
    {
     "data": {
      "text/plain": [
       "30.0"
      ]
     },
     "execution_count": 260,
     "metadata": {},
     "output_type": "execute_result"
    }
   ],
   "source": [
    "data['PhysicalHealth'].unique().max()"
   ]
  },
  {
   "cell_type": "code",
   "execution_count": 283,
   "id": "7cc25775",
   "metadata": {},
   "outputs": [],
   "source": [
    "ser = data['PhysicalHealth'].value_counts(normalize=True)*100"
   ]
  },
  {
   "cell_type": "code",
   "execution_count": 284,
   "id": "fb5ab3cd",
   "metadata": {},
   "outputs": [
    {
     "data": {
      "text/plain": [
       "0.0     70.854454\n",
       "30.0     6.100471\n",
       "2.0      4.652981\n",
       "1.0      3.279914\n",
       "3.0      2.694539\n",
       "5.0      2.378399\n",
       "10.0     1.705155\n",
       "15.0     1.567254\n",
       "7.0      1.447490\n",
       "4.0      1.397145\n",
       "20.0     1.005644\n",
       "14.0     0.904642\n",
       "6.0      0.397129\n",
       "25.0     0.363983\n",
       "8.0      0.288935\n",
       "21.0     0.195750\n",
       "12.0     0.189184\n",
       "28.0     0.139464\n",
       "29.0     0.063791\n",
       "9.0      0.056286\n",
       "18.0     0.052221\n",
       "16.0     0.042215\n",
       "27.0     0.038775\n",
       "17.0     0.034397\n",
       "13.0     0.028456\n",
       "22.0     0.027830\n",
       "11.0     0.026580\n",
       "24.0     0.020951\n",
       "26.0     0.020638\n",
       "23.0     0.014384\n",
       "19.0     0.010945\n",
       "Name: PhysicalHealth, dtype: float64"
      ]
     },
     "execution_count": 284,
     "metadata": {},
     "output_type": "execute_result"
    }
   ],
   "source": [
    "ser"
   ]
  },
  {
   "cell_type": "code",
   "execution_count": 286,
   "id": "8dbf5221",
   "metadata": {},
   "outputs": [
    {
     "data": {
      "text/plain": [
       "0.0     70.854454\n",
       "30.0     6.100471\n",
       "2.0      4.652981\n",
       "1.0      3.279914\n",
       "3.0      2.694539\n",
       "5.0      2.378399\n",
       "10.0     1.705155\n",
       "15.0     1.567254\n",
       "7.0      1.447490\n",
       "4.0      1.397145\n",
       "20.0     1.005644\n",
       "Name: PhysicalHealth, dtype: float64"
      ]
     },
     "execution_count": 286,
     "metadata": {},
     "output_type": "execute_result"
    }
   ],
   "source": [
    "ser[ser >=1]"
   ]
  },
  {
   "cell_type": "code",
   "execution_count": 299,
   "id": "e3eaeea8",
   "metadata": {
    "scrolled": false
   },
   "outputs": [
    {
     "data": {
      "image/png": "[encoded data removed]",
      "text/plain": [
       "<Figure size 576x432 with 1 Axes>"
      ]
     },
     "metadata": {},
     "output_type": "display_data"
    }
   ],
   "source": [
    "sns.set()\n",
    "sns.set_style('white')\n",
    "plt.figure(figsize=(8,6))\n",
    "ax = ser[ser >= 1].plot.barh(color='#1ABC9C')\n",
    "plt.ylabel('Physical Health number',fontsize=12,fontweight='bold',color='#311B92')\n",
    "plt.xlabel('Percentage of people',fontsize=12,fontweight='bold',color='#311B92')\n",
    "# plt.xticks(['10%','20%','30%','40%','50%','60%','70%'])\n",
    "plt.title('Distribution of People with the Physical Health number',\n",
    "          loc='center',fontsize=13,fontweight='bold',fontdict={'color':'#311B92'})\n",
    "sns.despine()"
   ]
  },
  {
   "cell_type": "code",
   "execution_count": 302,
   "id": "bc48eebc",
   "metadata": {},
   "outputs": [
    {
     "data": {
      "image/png": "[encoded data removed]",
      "text/plain": [
       "<Figure size 576x432 with 1 Axes>"
      ]
     },
     "metadata": {},
     "output_type": "display_data"
    }
   ],
   "source": [
    "sns.set()\n",
    "plt.figure(figsize=(8,6))\n",
    "sns.set_style('white')\n",
    "sns.histplot(x=data['PhysicalHealth'],hue = data['HeartDisease'],bins=20,palette= 'husl',stat='count',multiple='stack',)\n",
    "plt.xticks()\n",
    "\n",
    "plt.ylabel('Count',fontsize=12,fontweight='bold',color='#311B92')\n",
    "plt.xlabel('Physical Health',fontsize=12,fontweight='bold',color='#311B92')\n",
    "plt.title('Physical Health Vs BMI',loc='center',fontsize=13,fontweight='bold',fontdict={'color':'#311B92'})\n",
    "sns.despine()\n",
    "plt.show()\n"
   ]
  },
  {
   "cell_type": "markdown",
   "id": "5e8a0048",
   "metadata": {},
   "source": [
    "## Smoking Vs HeartDisease"
   ]
  },
  {
   "cell_type": "code",
   "execution_count": 118,
   "id": "90a1514b",
   "metadata": {},
   "outputs": [],
   "source": [
    "def percentage_above_bar_relative_to_xgroup(ax):\n",
    "    all_heights = [[p.get_height() for p in bars] for bars in ax.containers]\n",
    "    for bars in ax.containers:\n",
    "        for i, p in enumerate(bars):\n",
    "            total = sum(xgroup[i] for xgroup in all_heights)\n",
    "            percentage = f'{(100 * p.get_height() / total) :.1f}%'\n",
    "            ax.annotate(percentage, (p.get_x() + p.get_width() / 2, p.get_height()), size=11, ha='center', va='bottom')"
   ]
  },
  {
   "cell_type": "code",
   "execution_count": 166,
   "id": "2c10cb9e",
   "metadata": {},
   "outputs": [
    {
     "data": {
      "image/png": "[encoded data removed]",
      "text/plain": [
       "<Figure size 504x360 with 1 Axes>"
      ]
     },
     "metadata": {},
     "output_type": "display_data"
    }
   ],
   "source": [
    "plt.figure(figsize=(7,5))\n",
    "ax = sns.countplot(data['Smoking'],hue=data['HeartDisease'],palette=['#0097A7','#FF4081'])\n",
    "percentage_above_bar_relative_to_xgroup(ax)\n",
    "# ax.legend(loc='best')\n",
    "plt.legend(loc='upper left',title='HeartDisease')\n",
    "plt.title('Smoking Vs HeartDisease',fontsize=13,fontweight='bold',loc='left',fontdict={'color':'#311B92'})\n",
    "sns.despine()"
   ]
  },
  {
   "cell_type": "code",
   "execution_count": 129,
   "id": "4e309a62",
   "metadata": {},
   "outputs": [
    {
     "data": {
      "text/plain": [
       "No     58.752326\n",
       "Yes    41.247674\n",
       "Name: Smoking, dtype: float64"
      ]
     },
     "execution_count": 129,
     "metadata": {},
     "output_type": "execute_result"
    }
   ],
   "source": [
    "data['Smoking'].value_counts(normalize=True)*100"
   ]
  },
  {
   "cell_type": "code",
   "execution_count": 155,
   "id": "fbad33b6",
   "metadata": {},
   "outputs": [
    {
     "data": {
      "text/plain": [
       "Smoking  HeartDisease\n",
       "No       No              93.966586\n",
       "         Yes              6.033414\n",
       "Yes      No              87.842284\n",
       "         Yes             12.157716\n",
       "Name: HeartDisease, dtype: float64"
      ]
     },
     "execution_count": 155,
     "metadata": {},
     "output_type": "execute_result"
    }
   ],
   "source": [
    "data.groupby('Smoking')['HeartDisease'].value_counts(normalize=True)*100"
   ]
  },
  {
   "cell_type": "markdown",
   "id": "d6e32685",
   "metadata": {},
   "source": [
    "\n",
    "> **about half the percentage difference between the people who smoking and were injured by heart disease and those who are not smoking and survived**  "
   ]
  },
  {
   "cell_type": "markdown",
   "id": "7f583f6b",
   "metadata": {},
   "source": [
    "## AlcoholDrinking Vs HeartDisease"
   ]
  },
  {
   "cell_type": "code",
   "execution_count": 171,
   "id": "e46f92f8",
   "metadata": {},
   "outputs": [
    {
     "data": {
      "image/png": "[encoded data removed]",
      "text/plain": [
       "<Figure size 504x360 with 1 Axes>"
      ]
     },
     "metadata": {},
     "output_type": "display_data"
    }
   ],
   "source": [
    "plt.figure(figsize=(7,5))\n",
    "ax = sns.countplot(data['AlcoholDrinking'],hue=data['HeartDisease'],palette=['#0097A7','#FF4081'])\n",
    "percentage_above_bar_relative_to_xgroup(ax)\n",
    "# ax.legend(loc='best')\n",
    "plt.legend(loc='upper right',title='HeartDisease')\n",
    "\n",
    "plt.title('AlcoholDrinking Vs HeartDisease',fontsize=13,fontweight='bold',loc='left',fontdict={'color':'#311B92'})\n",
    "sns.despine()"
   ]
  },
  {
   "cell_type": "code",
   "execution_count": 156,
   "id": "c505dce3",
   "metadata": {},
   "outputs": [
    {
     "data": {
      "image/png": "[encoded data removed]",
      "text/plain": [
       "<Figure size 504x360 with 1 Axes>"
      ]
     },
     "metadata": {},
     "output_type": "display_data"
    }
   ],
   "source": [
    "plt.figure(figsize=(7,5))\n",
    "ax = sns.countplot(data['AlcoholDrinking'],hue=data['HeartDisease'],palette=['#0097A7','#FF4081'])\n",
    "percentage_above_bar_relative_to_xgroup(ax)\n",
    "plt.title('Smoking Vs HeartDisease',fontsize=13,fontweight='bold',loc='left',fontdict={'color':'#311B92'})\n",
    "sns.despine()"
   ]
  },
  {
   "cell_type": "code",
   "execution_count": 185,
   "id": "69264374",
   "metadata": {},
   "outputs": [
    {
     "data": {
      "text/plain": [
       "No     93.190325\n",
       "Yes     6.809675\n",
       "Name: AlcoholDrinking, dtype: float64"
      ]
     },
     "execution_count": 185,
     "metadata": {},
     "output_type": "execute_result"
    }
   ],
   "source": [
    "data['AlcoholDrinking'].value_counts(normalize=True)*100"
   ]
  },
  {
   "cell_type": "code",
   "execution_count": 202,
   "id": "266b2daa",
   "metadata": {},
   "outputs": [
    {
     "data": {
      "image/png": "[encoded data removed]",
      "text/plain": [
       "<Figure size 504x360 with 1 Axes>"
      ]
     },
     "metadata": {},
     "output_type": "display_data"
    }
   ],
   "source": [
    "# sns.set()\n",
    "plt.figure(figsize=(7,5))\n",
    "plt.pie((data['AlcoholDrinking'].value_counts(normalize=True)*100),autopct='%.2f%%',\n",
    "       textprops={'size':'large','fontweight':'bold','rotation':None,\n",
    "                 'color':'w'},colors=['#58508D','#BC5090'],explode=[0.1,0.02])\n",
    "plt.legend(['No','Yes'])\n",
    "plt.title('AlcoholDrinking',fontsize=13,fontweight='bold',loc='center',fontdict={'color':'#311B92'})\n",
    "sns.despine()"
   ]
  },
  {
   "cell_type": "code",
   "execution_count": 205,
   "id": "695700ac",
   "metadata": {},
   "outputs": [
    {
     "data": {
      "text/plain": [
       "AlcoholDrinking  HeartDisease\n",
       "No               No              271786\n",
       "                 Yes              26232\n",
       "Yes              No               20636\n",
       "                 Yes               1141\n",
       "Name: HeartDisease, dtype: int64"
      ]
     },
     "execution_count": 205,
     "metadata": {},
     "output_type": "execute_result"
    }
   ],
   "source": [
    "data.groupby('AlcoholDrinking')['HeartDisease'].value_counts()"
   ]
  },
  {
   "cell_type": "code",
   "execution_count": 206,
   "id": "ca648ab3",
   "metadata": {},
   "outputs": [
    {
     "data": {
      "text/html": [
       "<div>\n",
       "<style scoped>\n",
       "    .dataframe tbody tr th:only-of-type {\n",
       "        vertical-align: middle;\n",
       "    }\n",
       "\n",
       "    .dataframe tbody tr th {\n",
       "        vertical-align: top;\n",
       "    }\n",
       "\n",
       "    .dataframe thead th {\n",
       "        text-align: right;\n",
       "    }\n",
       "</style>\n",
       "<table border=\"1\" class=\"dataframe\">\n",
       "  <thead>\n",
       "    <tr style=\"text-align: right;\">\n",
       "      <th></th>\n",
       "      <th>count</th>\n",
       "      <th>unique</th>\n",
       "      <th>top</th>\n",
       "      <th>freq</th>\n",
       "    </tr>\n",
       "    <tr>\n",
       "      <th>AlcoholDrinking</th>\n",
       "      <th></th>\n",
       "      <th></th>\n",
       "      <th></th>\n",
       "      <th></th>\n",
       "    </tr>\n",
       "  </thead>\n",
       "  <tbody>\n",
       "    <tr>\n",
       "      <th>No</th>\n",
       "      <td>298018</td>\n",
       "      <td>2</td>\n",
       "      <td>No</td>\n",
       "      <td>271786</td>\n",
       "    </tr>\n",
       "    <tr>\n",
       "      <th>Yes</th>\n",
       "      <td>21777</td>\n",
       "      <td>2</td>\n",
       "      <td>No</td>\n",
       "      <td>20636</td>\n",
       "    </tr>\n",
       "  </tbody>\n",
       "</table>\n",
       "</div>"
      ],
      "text/plain": [
       "                  count unique top    freq\n",
       "AlcoholDrinking                           \n",
       "No               298018      2  No  271786\n",
       "Yes               21777      2  No   20636"
      ]
     },
     "execution_count": 206,
     "metadata": {},
     "output_type": "execute_result"
    }
   ],
   "source": [
    "data.groupby('AlcoholDrinking')['HeartDisease'].describe()"
   ]
  },
  {
   "cell_type": "markdown",
   "id": "55d31f23",
   "metadata": {},
   "source": [
    "> **Comment:**"
   ]
  },
  {
   "cell_type": "markdown",
   "id": "87df15e2",
   "metadata": {},
   "source": [
    "## Gender Effect on HeartDieseas"
   ]
  },
  {
   "cell_type": "code",
   "execution_count": 209,
   "id": "6811d875",
   "metadata": {},
   "outputs": [
    {
     "data": {
      "image/png": "[encoded data removed]",
      "text/plain": [
       "<Figure size 504x360 with 1 Axes>"
      ]
     },
     "metadata": {},
     "output_type": "display_data"
    }
   ],
   "source": [
    "plt.figure(figsize=(7,5))\n",
    "sns.set_style('white')\n",
    "ax = sns.countplot(data['Sex'],hue=data['HeartDisease'],palette=['#0097A7','#FF4081'])\n",
    "percentage_above_bar_relative_to_xgroup(ax)\n",
    "# ax.legend(loc='best')\n",
    "plt.legend(loc='upper right',title='HeartDisease')\n",
    "\n",
    "plt.title('Gender Vs HeartDisease',fontsize=13,fontweight='bold',loc='left',fontdict={'color':'#311B92'})\n",
    "sns.despine()"
   ]
  },
  {
   "cell_type": "code",
   "execution_count": 211,
   "id": "db69ec1f",
   "metadata": {},
   "outputs": [
    {
     "data": {
      "text/plain": [
       "Female    52.472678\n",
       "Male      47.527322\n",
       "Name: Sex, dtype: float64"
      ]
     },
     "execution_count": 211,
     "metadata": {},
     "output_type": "execute_result"
    }
   ],
   "source": [
    "data['Sex'].value_counts(normalize=True)*100"
   ]
  },
  {
   "cell_type": "code",
   "execution_count": 226,
   "id": "32177b09",
   "metadata": {},
   "outputs": [
    {
     "data": {
      "image/png": "[encoded data removed]",
      "text/plain": [
       "<Figure size 504x432 with 1 Axes>"
      ]
     },
     "metadata": {},
     "output_type": "display_data"
    }
   ],
   "source": [
    "# sns.set()\n",
    "plt.figure(figsize=(7,6))\n",
    "plt.pie((data['Sex'].value_counts(normalize=True)*100),autopct='%.2f%%',\n",
    "       textprops={'size':'large','fontweight':'bold','rotation':None,\n",
    "                 'color':'black'},colors=['#256D85', 'peachpuff'],explode=[0.01,0.02])\n",
    "plt.legend(title='Gender',labels=['Female','Male'],loc='best')\n",
    "plt.title('Gender Percentage',fontsize=13,fontweight='bold',loc='center',fontdict={'color':'#311B92'})\n",
    "sns.despine()"
   ]
  },
  {
   "cell_type": "markdown",
   "id": "78943217",
   "metadata": {},
   "source": [
    "\n",
    "> **most of those injured with heart disease are Males about 10.6% of them** "
   ]
  },
  {
   "cell_type": "markdown",
   "id": "71703680",
   "metadata": {},
   "source": [
    "## Stroke Vs HeartDisease"
   ]
  },
  {
   "cell_type": "code",
   "execution_count": 236,
   "id": "8649a1ca",
   "metadata": {},
   "outputs": [
    {
     "data": {
      "image/png": "[encoded data removed]",
      "text/plain": [
       "<Figure size 504x360 with 1 Axes>"
      ]
     },
     "metadata": {},
     "output_type": "display_data"
    }
   ],
   "source": [
    "plt.figure(figsize=(7,5))\n",
    "sns.set_style('white')\n",
    "ax = sns.countplot(data['Stroke'],hue=data['HeartDisease'],palette=['#0097A7','#FF4081'])\n",
    "percentage_above_bar_relative_to_xgroup(ax)\n",
    "# ax.legend(loc='best')\n",
    "plt.legend(loc='upper right',title='HeartDisease')\n",
    "\n",
    "plt.title('Stroke Vs HeartDisease',fontsize=13,fontweight='bold',loc='left',fontdict={'color':'#311B92'})\n",
    "sns.despine()"
   ]
  },
  {
   "cell_type": "code",
   "execution_count": 230,
   "id": "d9e91f03",
   "metadata": {},
   "outputs": [
    {
     "data": {
      "text/plain": [
       "No     307726\n",
       "Yes     12069\n",
       "Name: Stroke, dtype: int64"
      ]
     },
     "execution_count": 230,
     "metadata": {},
     "output_type": "execute_result"
    }
   ],
   "source": [
    "data['Stroke'].value_counts()"
   ]
  },
  {
   "cell_type": "code",
   "execution_count": 233,
   "id": "8968b807",
   "metadata": {},
   "outputs": [
    {
     "data": {
      "text/plain": [
       "Stroke  HeartDisease\n",
       "No      No              284742\n",
       "        Yes              22984\n",
       "Yes     No                7680\n",
       "        Yes               4389\n",
       "Name: HeartDisease, dtype: int64"
      ]
     },
     "execution_count": 233,
     "metadata": {},
     "output_type": "execute_result"
    }
   ],
   "source": [
    "data.groupby('Stroke')['HeartDisease'].value_counts()"
   ]
  },
  {
   "cell_type": "markdown",
   "id": "012b5a4f",
   "metadata": {},
   "source": [
    "> **Comment:**\n",
    "<br>\n",
    "> معظم النسبه من الناس اللى عندهم تلف في بعض خلايا العقل مصابون بمرض القلب ودا منطقي جدا لان القلب طلما مش شغال كويس ممكن ياثر على عدم وصل الدم لبعض الخلايا دى\n",
    "<br>\n",
    "> Most of the people who have damage to some cells of the mind suffer from heart disease and this is very logical because the heart, as long as the heart is not working well, may affect the lack of blood supply to some of these cells."
   ]
  },
  {
   "cell_type": "code",
   "execution_count": 240,
   "id": "16661df6",
   "metadata": {},
   "outputs": [
    {
     "data": {
      "text/plain": [
       "Index(['HeartDisease', 'BMI', 'Smoking', 'AlcoholDrinking', 'Stroke',\n",
       "       'PhysicalHealth', 'MentalHealth', 'DiffWalking', 'Sex', 'AgeCategory',\n",
       "       'Race', 'Diabetic', 'PhysicalActivity', 'GenHealth', 'SleepTime',\n",
       "       'Asthma', 'KidneyDisease', 'SkinCancer'],\n",
       "      dtype='object')"
      ]
     },
     "execution_count": 240,
     "metadata": {},
     "output_type": "execute_result"
    }
   ],
   "source": [
    "data.columns"
   ]
  },
  {
   "cell_type": "code",
   "execution_count": 242,
   "id": "42c53524",
   "metadata": {},
   "outputs": [
    {
     "data": {
      "image/png": "[encoded data removed]",
      "text/plain": [
       "<Figure size 504x360 with 1 Axes>"
      ]
     },
     "metadata": {},
     "output_type": "display_data"
    }
   ],
   "source": [
    "plt.figure(figsize=(7,5))\n",
    "sns.set_style('white')\n",
    "ax = sns.countplot(data['DiffWalking'],hue=data['HeartDisease'],palette=['#0097A7','#FF4081'])\n",
    "percentage_above_bar_relative_to_xgroup(ax)\n",
    "# ax.legend(loc='best')\n",
    "plt.legend(loc='upper right',title='HeartDisease')\n",
    "\n",
    "plt.title('DiffWalking Vs HeartDisease',fontsize=13,fontweight='bold',loc='left',fontdict={'color':'#311B92'})\n",
    "sns.despine()"
   ]
  },
  {
   "cell_type": "code",
   "execution_count": null,
   "id": "6a24bf58",
   "metadata": {},
   "outputs": [],
   "source": []
  },
  {
   "cell_type": "markdown",
   "id": "29b66cfe",
   "metadata": {},
   "source": [
    "## Target Column"
   ]
  },
  {
   "cell_type": "code",
   "execution_count": 32,
   "id": "98eb71db",
   "metadata": {},
   "outputs": [
    {
     "data": {
      "text/plain": [
       "<AxesSubplot:xlabel='HeartDisease', ylabel='count'>"
      ]
     },
     "execution_count": 32,
     "metadata": {},
     "output_type": "execute_result"
    },
    {
     "data": {
      "image/png": "[encoded data removed]",
      "text/plain": [
       "<Figure size 432x360 with 1 Axes>"
      ]
     },
     "metadata": {
      "needs_background": "light"
     },
     "output_type": "display_data"
    }
   ],
   "source": [
    "plt.figure(figsize=(6,5))\n",
    "sns.countplot(data['HeartDisease'],palette=['#0097A7','#FF4081'])"
   ]
  },
  {
   "cell_type": "markdown",
   "id": "f21844fe",
   "metadata": {},
   "source": [
    "## Dealing with the imbalanced data"
   ]
  },
  {
   "cell_type": "markdown",
   "id": "570d1441",
   "metadata": {},
   "source": [
    "**techniques**\n",
    "1. Resampling (Oversampling and Undersampling)\n",
    "2. SMOTE\n",
    "3. BalancedBaggingClassifier\n"
   ]
  },
  {
   "cell_type": "code",
   "execution_count": 36,
   "id": "26ddfad0",
   "metadata": {},
   "outputs": [],
   "source": [
    "target = data['HeartDisease'].map({'Yes':1,'No':0})"
   ]
  },
  {
   "cell_type": "code",
   "execution_count": 38,
   "id": "22df7fae",
   "metadata": {},
   "outputs": [
    {
     "data": {
      "text/plain": [
       "0    292422\n",
       "1     27373\n",
       "Name: HeartDisease, dtype: int64"
      ]
     },
     "execution_count": 38,
     "metadata": {},
     "output_type": "execute_result"
    }
   ],
   "source": [
    "target.value_counts()[0] "
   ]
  },
  {
   "cell_type": "code",
   "execution_count": 41,
   "id": "4d85e8b7",
   "metadata": {},
   "outputs": [
    {
     "data": {
      "text/plain": [
       "265049"
      ]
     },
     "execution_count": 41,
     "metadata": {},
     "output_type": "execute_result"
    }
   ],
   "source": [
    "target.value_counts()[0] - target.value_counts()[1] "
   ]
  },
  {
   "cell_type": "markdown",
   "id": "eb6069e8",
   "metadata": {},
   "source": [
    "### UpSampling the target"
   ]
  },
  {
   "cell_type": "code",
   "execution_count": 57,
   "id": "eaae7d1d",
   "metadata": {},
   "outputs": [],
   "source": [
    "from sklearn.utils import resample\n",
    "#create two different dataframe of majority and minority class \n",
    "df_majority = target == 0 \n",
    "df_minority = target == 1\n",
    "# upsample minority class\n",
    "target_minority_upsampled = resample(df_minority, \n",
    "                                 replace=True,    # sample with replacement\n",
    "                                 n_samples= 265049, # to match majority class\n",
    "                                 random_state=365)  # reproducible results"
   ]
  },
  {
   "cell_type": "code",
   "execution_count": 63,
   "id": "d349bf0e",
   "metadata": {},
   "outputs": [],
   "source": [
    "# sns.countplot(target_minority_upsampled)"
   ]
  },
  {
   "cell_type": "code",
   "execution_count": 59,
   "id": "bf07f1fc",
   "metadata": {},
   "outputs": [],
   "source": [
    "target_upsampled = pd.concat([target_minority_upsampled, df_majority])"
   ]
  },
  {
   "cell_type": "code",
   "execution_count": 60,
   "id": "9d8c25cd",
   "metadata": {},
   "outputs": [
    {
     "data": {
      "text/plain": [
       "<AxesSubplot:xlabel='HeartDisease', ylabel='count'>"
      ]
     },
     "execution_count": 60,
     "metadata": {},
     "output_type": "execute_result"
    },
    {
     "data": {
      "image/png": "[encoded data removed]",
      "text/plain": [
       "<Figure size 432x288 with 1 Axes>"
      ]
     },
     "metadata": {
      "needs_background": "light"
     },
     "output_type": "display_data"
    }
   ],
   "source": [
    "sns.countplot(target_upsampled)"
   ]
  },
  {
   "cell_type": "markdown",
   "id": "7c539988",
   "metadata": {},
   "source": [
    "### DownSampling the target"
   ]
  },
  {
   "cell_type": "code",
   "execution_count": 62,
   "id": "a7b0fc29",
   "metadata": {},
   "outputs": [],
   "source": [
    "target_majority_upsampled = resample(df_majority, \n",
    "                                 replace=True,    # sample with replacement\n",
    "                                 n_samples= 265049, # to match majority class\n",
    "                                 random_state=365)  # reproducible results"
   ]
  },
  {
   "cell_type": "code",
   "execution_count": 64,
   "id": "dbb768ef",
   "metadata": {},
   "outputs": [],
   "source": [
    "target_Downsampled = pd.concat([target_majority_upsampled, df_minority])"
   ]
  },
  {
   "cell_type": "code",
   "execution_count": 65,
   "id": "18ca99cc",
   "metadata": {},
   "outputs": [
    {
     "data": {
      "text/plain": [
       "<AxesSubplot:xlabel='HeartDisease', ylabel='count'>"
      ]
     },
     "execution_count": 65,
     "metadata": {},
     "output_type": "execute_result"
    },
    {
     "data": {
      "image/png": "[encoded data removed]",
      "text/plain": [
       "<Figure size 432x288 with 1 Axes>"
      ]
     },
     "metadata": {
      "needs_background": "light"
     },
     "output_type": "display_data"
    }
   ],
   "source": [
    "sns.countplot(target_Downsampled)"
   ]
  },
  {
   "cell_type": "code",
   "execution_count": null,
   "id": "497661aa",
   "metadata": {},
   "outputs": [],
   "source": []
  }
 ],
 "metadata": {
  "kernelspec": {
   "display_name": "Python 3",
   "language": "python",
   "name": "python3"
  },
  "language_info": {
   "codemirror_mode": {
    "name": "ipython",
    "version": 3
   },
   "file_extension": ".py",
   "mimetype": "text/x-python",
   "name": "python",
   "nbconvert_exporter": "python",
   "pygments_lexer": "ipython3",
   "version": "3.8.8"
  }
 },
 "nbformat": 4,
 "nbformat_minor": 5
}
